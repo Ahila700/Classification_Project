{
 "cells": [
  {
   "cell_type": "code",
   "execution_count": 1,
   "metadata": {},
   "outputs": [],
   "source": [
    "#import libraries\n",
    "\n",
    "import pandas as pd\n",
    "import numpy as np\n",
    "\n",
    "\n",
    "\n",
    "import matplotlib.pyplot as plt\n",
    "%matplotlib inline\n",
    "\n",
    "from sklearn.model_selection import train_test_split\n",
    "from sklearn.metrics import accuracy_score, f1_score\n",
    "from sklearn.preprocessing import PolynomialFeatures\n",
    "from sklearn.preprocessing import StandardScaler\n",
    "\n",
    "from sklearn.linear_model import LogisticRegression\n",
    "\n",
    "from sklearn import metrics\n",
    "\n",
    "from sklearn.metrics import confusion_matrix\n",
    "import itertools\n",
    "\n",
    "from sklearn.model_selection import GridSearchCV\n",
    "\n",
    "from statsmodels.stats.outliers_influence import variance_inflation_factor\n",
    "\n",
    "from sklearn.tree import DecisionTreeClassifier # Import Decision Tree Classifier\n",
    "from sklearn.ensemble import RandomForestClassifier\n",
    "from sklearn.neighbors import KNeighborsClassifier\n",
    "from sklearn.ensemble import VotingClassifier\n",
    "from sklearn.ensemble import GradientBoostingClassifier\n",
    "\n",
    "import xgboost as xgb\n",
    "\n",
    "import seaborn as sns\n",
    "sns.set(context='paper', style='darkgrid', rc={'figure.facecolor':'white'}, font_scale=1.2)\n",
    "\n",
    "import pickle\n",
    "\n",
    "from sklearn.decomposition import PCA"
   ]
  },
  {
   "cell_type": "code",
   "execution_count": 25,
   "metadata": {},
   "outputs": [],
   "source": [
    "X = pd.read_csv('CSV_files/training_set_values.csv', index_col = 0)\n",
    "y = pd.read_csv('CSV_files/training_set_labels.csv', index_col = 0)\n",
    "\n",
    "df = pd.concat([X, y], axis = 1)"
   ]
  },
  {
   "cell_type": "code",
   "execution_count": 26,
   "metadata": {},
   "outputs": [],
   "source": [
    "df = df[df['construction_year'] > 0]"
   ]
  },
  {
   "cell_type": "code",
   "execution_count": 27,
   "metadata": {},
   "outputs": [],
   "source": [
    "features = ['amount_tsh', 'gps_height', 'population', 'construction_year']"
   ]
  },
  {
   "cell_type": "code",
   "execution_count": 28,
   "metadata": {},
   "outputs": [],
   "source": [
    "X_pca = df[features].values\n",
    "y_pca = df['status_group'].values"
   ]
  },
  {
   "cell_type": "code",
   "execution_count": 29,
   "metadata": {},
   "outputs": [
    {
     "data": {
      "text/html": [
       "<div>\n",
       "<style scoped>\n",
       "    .dataframe tbody tr th:only-of-type {\n",
       "        vertical-align: middle;\n",
       "    }\n",
       "\n",
       "    .dataframe tbody tr th {\n",
       "        vertical-align: top;\n",
       "    }\n",
       "\n",
       "    .dataframe thead th {\n",
       "        text-align: right;\n",
       "    }\n",
       "</style>\n",
       "<table border=\"1\" class=\"dataframe\">\n",
       "  <thead>\n",
       "    <tr style=\"text-align: right;\">\n",
       "      <th></th>\n",
       "      <th>amount_tsh</th>\n",
       "      <th>gps_height</th>\n",
       "      <th>population</th>\n",
       "      <th>construction_year</th>\n",
       "    </tr>\n",
       "  </thead>\n",
       "  <tbody>\n",
       "    <tr>\n",
       "      <th>amount_tsh</th>\n",
       "      <td>1.253894e+07</td>\n",
       "      <td>83489.559873</td>\n",
       "      <td>-8607.495425</td>\n",
       "      <td>279.616357</td>\n",
       "    </tr>\n",
       "    <tr>\n",
       "      <th>gps_height</th>\n",
       "      <td>8.348956e+04</td>\n",
       "      <td>382021.241203</td>\n",
       "      <td>-20734.495626</td>\n",
       "      <td>-48.129986</td>\n",
       "    </tr>\n",
       "    <tr>\n",
       "      <th>population</th>\n",
       "      <td>-8.607495e+03</td>\n",
       "      <td>-20734.495626</td>\n",
       "      <td>305083.614098</td>\n",
       "      <td>224.188014</td>\n",
       "    </tr>\n",
       "    <tr>\n",
       "      <th>construction_year</th>\n",
       "      <td>2.796164e+02</td>\n",
       "      <td>-48.129986</td>\n",
       "      <td>224.188014</td>\n",
       "      <td>155.551907</td>\n",
       "    </tr>\n",
       "  </tbody>\n",
       "</table>\n",
       "</div>"
      ],
      "text/plain": [
       "                     amount_tsh     gps_height     population  \\\n",
       "amount_tsh         1.253894e+07   83489.559873   -8607.495425   \n",
       "gps_height         8.348956e+04  382021.241203  -20734.495626   \n",
       "population        -8.607495e+03  -20734.495626  305083.614098   \n",
       "construction_year  2.796164e+02     -48.129986     224.188014   \n",
       "\n",
       "                   construction_year  \n",
       "amount_tsh                279.616357  \n",
       "gps_height                -48.129986  \n",
       "population                224.188014  \n",
       "construction_year         155.551907  "
      ]
     },
     "execution_count": 29,
     "metadata": {},
     "output_type": "execute_result"
    }
   ],
   "source": [
    "df[features].cov()"
   ]
  },
  {
   "cell_type": "code",
   "execution_count": 30,
   "metadata": {},
   "outputs": [],
   "source": [
    "# preprocess the data \n",
    "from sklearn.preprocessing import StandardScaler\n",
    "\n",
    "X_pca = StandardScaler().fit_transform(X_pca)"
   ]
  },
  {
   "cell_type": "code",
   "execution_count": 31,
   "metadata": {},
   "outputs": [],
   "source": [
    "# create principal components \n",
    "from sklearn.decomposition import PCA\n",
    "pca = PCA()\n",
    "principalComponents = pca.fit_transform(X_pca)\n",
    "principalDf = pd.DataFrame(data = principalComponents, \n",
    "                           columns = ['principal component 1', 'principal component 2',\n",
    "                                      'principal component 3', 'principal component 4'])"
   ]
  },
  {
   "cell_type": "code",
   "execution_count": 33,
   "metadata": {},
   "outputs": [
    {
     "data": {
      "text/html": [
       "<div>\n",
       "<style scoped>\n",
       "    .dataframe tbody tr th:only-of-type {\n",
       "        vertical-align: middle;\n",
       "    }\n",
       "\n",
       "    .dataframe tbody tr th {\n",
       "        vertical-align: top;\n",
       "    }\n",
       "\n",
       "    .dataframe thead th {\n",
       "        text-align: right;\n",
       "    }\n",
       "</style>\n",
       "<table border=\"1\" class=\"dataframe\">\n",
       "  <thead>\n",
       "    <tr style=\"text-align: right;\">\n",
       "      <th></th>\n",
       "      <th>principal component 1</th>\n",
       "      <th>principal component 2</th>\n",
       "      <th>principal component 3</th>\n",
       "      <th>principal component 4</th>\n",
       "    </tr>\n",
       "  </thead>\n",
       "  <tbody>\n",
       "    <tr>\n",
       "      <th>0</th>\n",
       "      <td>-1.046799</td>\n",
       "      <td>1.203468</td>\n",
       "      <td>0.579682</td>\n",
       "      <td>-0.265899</td>\n",
       "    </tr>\n",
       "    <tr>\n",
       "      <th>1</th>\n",
       "      <td>-0.067826</td>\n",
       "      <td>0.766131</td>\n",
       "      <td>-0.939207</td>\n",
       "      <td>0.271142</td>\n",
       "    </tr>\n",
       "    <tr>\n",
       "      <th>2</th>\n",
       "      <td>0.625104</td>\n",
       "      <td>0.440559</td>\n",
       "      <td>-0.605778</td>\n",
       "      <td>-0.530652</td>\n",
       "    </tr>\n",
       "    <tr>\n",
       "      <th>3</th>\n",
       "      <td>0.338857</td>\n",
       "      <td>-1.040111</td>\n",
       "      <td>0.667053</td>\n",
       "      <td>-0.840062</td>\n",
       "    </tr>\n",
       "    <tr>\n",
       "      <th>4</th>\n",
       "      <td>1.066356</td>\n",
       "      <td>0.062472</td>\n",
       "      <td>-0.479253</td>\n",
       "      <td>-1.570586</td>\n",
       "    </tr>\n",
       "    <tr>\n",
       "      <th>...</th>\n",
       "      <td>...</td>\n",
       "      <td>...</td>\n",
       "      <td>...</td>\n",
       "      <td>...</td>\n",
       "    </tr>\n",
       "    <tr>\n",
       "      <th>38686</th>\n",
       "      <td>-0.207606</td>\n",
       "      <td>-1.873193</td>\n",
       "      <td>1.657981</td>\n",
       "      <td>-0.050865</td>\n",
       "    </tr>\n",
       "    <tr>\n",
       "      <th>38687</th>\n",
       "      <td>0.707401</td>\n",
       "      <td>0.218160</td>\n",
       "      <td>-0.379816</td>\n",
       "      <td>-1.092041</td>\n",
       "    </tr>\n",
       "    <tr>\n",
       "      <th>38688</th>\n",
       "      <td>-0.292415</td>\n",
       "      <td>0.035182</td>\n",
       "      <td>-0.371797</td>\n",
       "      <td>0.062618</td>\n",
       "    </tr>\n",
       "    <tr>\n",
       "      <th>38689</th>\n",
       "      <td>-0.868052</td>\n",
       "      <td>0.710823</td>\n",
       "      <td>0.554680</td>\n",
       "      <td>-0.363453</td>\n",
       "    </tr>\n",
       "    <tr>\n",
       "      <th>38690</th>\n",
       "      <td>0.878567</td>\n",
       "      <td>-0.168734</td>\n",
       "      <td>-0.096061</td>\n",
       "      <td>-1.072831</td>\n",
       "    </tr>\n",
       "  </tbody>\n",
       "</table>\n",
       "<p>38691 rows × 4 columns</p>\n",
       "</div>"
      ],
      "text/plain": [
       "       principal component 1  principal component 2  principal component 3  \\\n",
       "0                  -1.046799               1.203468               0.579682   \n",
       "1                  -0.067826               0.766131              -0.939207   \n",
       "2                   0.625104               0.440559              -0.605778   \n",
       "3                   0.338857              -1.040111               0.667053   \n",
       "4                   1.066356               0.062472              -0.479253   \n",
       "...                      ...                    ...                    ...   \n",
       "38686              -0.207606              -1.873193               1.657981   \n",
       "38687               0.707401               0.218160              -0.379816   \n",
       "38688              -0.292415               0.035182              -0.371797   \n",
       "38689              -0.868052               0.710823               0.554680   \n",
       "38690               0.878567              -0.168734              -0.096061   \n",
       "\n",
       "       principal component 4  \n",
       "0                  -0.265899  \n",
       "1                   0.271142  \n",
       "2                  -0.530652  \n",
       "3                  -0.840062  \n",
       "4                  -1.570586  \n",
       "...                      ...  \n",
       "38686              -0.050865  \n",
       "38687              -1.092041  \n",
       "38688               0.062618  \n",
       "38689              -0.363453  \n",
       "38690              -1.072831  \n",
       "\n",
       "[38691 rows x 4 columns]"
      ]
     },
     "execution_count": 33,
     "metadata": {},
     "output_type": "execute_result"
    }
   ],
   "source": [
    "principalDf"
   ]
  },
  {
   "cell_type": "code",
   "execution_count": 10,
   "metadata": {},
   "outputs": [
    {
     "data": {
      "text/plain": [
       "array([0.26999786, 0.25443441, 0.24368456, 0.23188318])"
      ]
     },
     "execution_count": 10,
     "metadata": {},
     "output_type": "execute_result"
    }
   ],
   "source": [
    "pca.explained_variance_ratio_"
   ]
  },
  {
   "cell_type": "code",
   "execution_count": 11,
   "metadata": {},
   "outputs": [
    {
     "data": {
      "text/plain": [
       "array([1.08001935, 1.01776393, 0.97476343, 0.92755668])"
      ]
     },
     "execution_count": 11,
     "metadata": {},
     "output_type": "execute_result"
    }
   ],
   "source": [
    "pca.explained_variance_"
   ]
  },
  {
   "cell_type": "code",
   "execution_count": null,
   "metadata": {},
   "outputs": [],
   "source": []
  },
  {
   "cell_type": "code",
   "execution_count": 34,
   "metadata": {},
   "outputs": [
    {
     "data": {
      "text/plain": [
       "PCA()"
      ]
     },
     "execution_count": 34,
     "metadata": {},
     "output_type": "execute_result"
    }
   ],
   "source": [
    "pca.components_"
   ]
  },
  {
   "cell_type": "code",
   "execution_count": 12,
   "metadata": {},
   "outputs": [
    {
     "name": "stdout",
     "output_type": "stream",
     "text": [
      "[1.08001935 1.01776393 0.97476343 0.92755668]\n",
      "[[-0.32304204 -0.65162255  0.62652073  0.28018505]\n",
      " [ 0.65630165  0.22703118  0.27767018  0.66379535]\n",
      " [ 0.61239116 -0.25551907  0.34651443 -0.66303456]\n",
      " [-0.29981504  0.67716682  0.6405457  -0.2031188 ]]\n"
     ]
    }
   ],
   "source": [
    "eig_values = pca.explained_variance_\n",
    "eig_vectors = pca.components_\n",
    "print(eig_values)\n",
    "print(eig_vectors)"
   ]
  },
  {
   "cell_type": "code",
   "execution_count": 16,
   "metadata": {},
   "outputs": [],
   "source": [
    "pc1 = pca.components_[0]\n",
    "pc2 = pca.components_[1]\n",
    "pc3 = pca.components_[2]\n",
    "pc4 = pca.components_[3]"
   ]
  },
  {
   "cell_type": "code",
   "execution_count": 18,
   "metadata": {},
   "outputs": [
    {
     "data": {
      "text/plain": [
       "array([[-0.33571814, -0.65738476,  0.6185646 ,  0.2698455 ],\n",
       "       [ 0.68205479,  0.22903878,  0.27414407,  0.6392996 ],\n",
       "       [ 0.63642126, -0.25777859,  0.34211407, -0.63856689],\n",
       "       [-0.31157972,  0.68315491,  0.63241146, -0.1956232 ]])"
      ]
     },
     "execution_count": 18,
     "metadata": {},
     "output_type": "execute_result"
    }
   ],
   "source": [
    "# get the loadings\n",
    "\n",
    "structure_loading_1 = pc1 * np.sqrt(eig_values)\n",
    "str_loading_1 = pd.Series(structure_loading_1, index=features)\n",
    "str_loading_1"
   ]
  },
  {
   "cell_type": "code",
   "execution_count": 21,
   "metadata": {},
   "outputs": [
    {
     "data": {
      "text/plain": [
       "construction_year    0.669665\n",
       "amount_tsh           0.662105\n",
       "population           0.280126\n",
       "gps_height           0.229039\n",
       "dtype: float64"
      ]
     },
     "execution_count": 21,
     "metadata": {},
     "output_type": "execute_result"
    }
   ],
   "source": [
    "structure_loading_2 = pc2* np.sqrt(eig_values[1])\n",
    "str_loading_2 = pd.Series(structure_loading_2, index=features)\n",
    "str_loading_2.sort_values(ascending = False)"
   ]
  },
  {
   "cell_type": "code",
   "execution_count": 22,
   "metadata": {},
   "outputs": [
    {
     "data": {
      "text/plain": [
       "amount_tsh           0.604614\n",
       "population           0.342114\n",
       "gps_height          -0.252274\n",
       "construction_year   -0.654615\n",
       "dtype: float64"
      ]
     },
     "execution_count": 22,
     "metadata": {},
     "output_type": "execute_result"
    }
   ],
   "source": [
    "structure_loading_3 = pc3* np.sqrt(eig_values[2])\n",
    "str_loading_3 = pd.Series(structure_loading_3, index=features)\n",
    "str_loading_3.sort_values(ascending = False)"
   ]
  },
  {
   "cell_type": "code",
   "execution_count": 23,
   "metadata": {},
   "outputs": [
    {
     "data": {
      "text/plain": [
       "gps_height           0.652178\n",
       "population           0.616908\n",
       "construction_year   -0.195623\n",
       "amount_tsh          -0.288751\n",
       "dtype: float64"
      ]
     },
     "execution_count": 23,
     "metadata": {},
     "output_type": "execute_result"
    }
   ],
   "source": [
    "structure_loading_4 = pc4* np.sqrt(eig_values[3])\n",
    "str_loading_4 = pd.Series(structure_loading_4, index=features)\n",
    "str_loading_4.sort_values(ascending = False)"
   ]
  },
  {
   "cell_type": "code",
   "execution_count": null,
   "metadata": {},
   "outputs": [],
   "source": []
  },
  {
   "cell_type": "code",
   "execution_count": 18,
   "metadata": {},
   "outputs": [
    {
     "data": {
      "text/plain": [
       "Text(0, 0.5, 'proportion of explained variance')"
      ]
     },
     "execution_count": 18,
     "metadata": {},
     "output_type": "execute_result"
    },
    {
     "data": {
      "image/png": "[encoded data removed]",
      "text/plain": [
       "<Figure size 432x288 with 1 Axes>"
      ]
     },
     "metadata": {},
     "output_type": "display_data"
    }
   ],
   "source": [
    "index = np.arange(4)\n",
    "plt.bar(index, pca.explained_variance_ratio_)\n",
    "plt.title('Scree plot for PCA')\n",
    "plt.xlabel('Num of components')\n",
    "plt.ylabel('proportion of explained variance')"
   ]
  },
  {
   "cell_type": "code",
   "execution_count": 19,
   "metadata": {},
   "outputs": [
    {
     "data": {
      "text/plain": [
       "Text(0, 0.5, 'explained variance ratio')"
      ]
     },
     "execution_count": 19,
     "metadata": {},
     "output_type": "execute_result"
    },
    {
     "data": {
      "image/png": "[encoded data removed]",
      "text/plain": [
       "<Figure size 432x288 with 1 Axes>"
      ]
     },
     "metadata": {},
     "output_type": "display_data"
    }
   ],
   "source": [
    "plt.plot(np.cumsum(pca.explained_variance_ratio_))\n",
    "plt.xlabel('number of components')\n",
    "plt.ylabel('explained variance ratio')"
   ]
  },
  {
   "cell_type": "code",
   "execution_count": null,
   "metadata": {},
   "outputs": [],
   "source": []
  },
  {
   "cell_type": "markdown",
   "metadata": {},
   "source": [
    "# Attempting MCA"
   ]
  },
  {
   "cell_type": "code",
   "execution_count": null,
   "metadata": {},
   "outputs": [],
   "source": [
    "import mca\n",
    "from pipeline_functions import pipeline_df"
   ]
  },
  {
   "cell_type": "code",
   "execution_count": null,
   "metadata": {
    "scrolled": true
   },
   "outputs": [],
   "source": [
    "df = pipeline_df(df)"
   ]
  },
  {
   "cell_type": "code",
   "execution_count": null,
   "metadata": {},
   "outputs": [],
   "source": [
    "df.drop(columns = ['amount_tsh', 'gps_height', 'management', 'source_class_surface',\n",
    "       'source_class_unknown', 'source_type_dam', 'source_type_other',\n",
    "       'source_type_rainwater harvesting', 'source_type_river/lake',\n",
    "       'source_type_shallow well', 'source_type_spring', 'basin__Lake Nyasa',\n",
    "       'basin__Lake Rukwa', 'basin__Lake Tanganyika', 'basin__Lake Victoria',\n",
    "       'basin__Pangani', 'basin__Rufiji', 'basin__Ruvuma / Southern Coast',\n",
    "       'basin__Wami / Ruvu', 'region__Dar es Salaam', 'region__Dodoma',\n",
    "       'region__Iringa', 'region__Kagera', 'region__Kigoma',\n",
    "       'region__Kilimanjaro', 'region__Lindi', 'region__Manyara',\n",
    "       'region__Mara', 'region__Mbeya', 'region__Morogoro', 'region__Mtwara',\n",
    "       'region__Mwanza', 'region__Pwani', 'region__Rukwa', 'region__Ruvuma',\n",
    "       'region__Shinyanga', 'region__Singida', 'region__Tabora',\n",
    "       'region__Tanga', 'extraction__handpump', 'extraction__motorpump',\n",
    "       'extraction__other', 'extraction__rope pump', 'extraction__submersible',\n",
    "       'extraction__wind-powered', 'quality__fluoride', 'quality__good', 'quality__milky',\n",
    "       'quality__salty', 'quality__unknown', 'quantity__enough',\n",
    "       'quantity__insufficient', 'quantity__seasonal', 'quantity__unknown',\n",
    "       'funder_Hesawa', 'funder_Danida', 'funder_Government Of Tanzania',\n",
    "       'installer_DWE', 'installer_Government', 'subvillage_Madukani',\n",
    "       'subvillage_Shuleni', 'subvillage_Majengo', 'district_1', 'district_2',\n",
    "       'district_3', 'district_4', 'lga_Njombe', 'lga_Arusha Rural',\n",
    "       'lga_Moshi Rural', 'lga_Bariadi', 'lga_Rungwe', 'lga_Kilosa',\n",
    "       'lga_Kasulu', 'lga_Mbozi', 'lga_Meru', 'lga_Bagamoyo', 'payment__other', \n",
    "       'payment__pay annually', 'payment__pay monthly', 'payment__pay per bucket', \n",
    "       'payment__pay when scheme fails', 'payment__unknown', 'waterpoint_type__communal standpipe',\n",
    "       'waterpoint_type__dam', 'waterpoint_type__hand pump',\n",
    "       'waterpoint_type__improved spring', 'waterpoint_type__other',], inplace = True)"
   ]
  },
  {
   "cell_type": "code",
   "execution_count": null,
   "metadata": {},
   "outputs": [],
   "source": [
    "feature = df.drop(columns = 'status_group').columns"
   ]
  },
  {
   "cell_type": "code",
   "execution_count": null,
   "metadata": {},
   "outputs": [],
   "source": [
    "feature"
   ]
  },
  {
   "cell_type": "code",
   "execution_count": null,
   "metadata": {},
   "outputs": [],
   "source": [
    "mca_df = mca.MCA(df)"
   ]
  },
  {
   "cell_type": "code",
   "execution_count": null,
   "metadata": {},
   "outputs": [],
   "source": []
  }
 ],
 "metadata": {
  "kernelspec": {
   "display_name": "Python 3",
   "language": "python",
   "name": "python3"
  },
  "language_info": {
   "codemirror_mode": {
    "name": "ipython",
    "version": 3
   },
   "file_extension": ".py",
   "mimetype": "text/x-python",
   "name": "python",
   "nbconvert_exporter": "python",
   "pygments_lexer": "ipython3",
   "version": "3.7.6"
  }
 },
 "nbformat": 4,
 "nbformat_minor": 4
}
